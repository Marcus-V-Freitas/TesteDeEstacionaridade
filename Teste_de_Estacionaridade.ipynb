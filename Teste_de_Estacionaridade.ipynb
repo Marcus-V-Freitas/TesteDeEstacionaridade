{
  "nbformat": 4,
  "nbformat_minor": 0,
  "metadata": {
    "colab": {
      "name": "Teste de Estacionaridade.ipynb",
      "provenance": [],
      "collapsed_sections": [
        "j2wSVcDKu77o",
        "kam32IAju2Xa",
        "GrXr5bssu5Wf",
        "E44z8MjuwDPK",
        "YmWxnqX3yudA",
        "OjfGKsErzcgX",
        "coo8jJh704OX",
        "O66d6qLc1Ig-",
        "0AUwFC4H1Pky"
      ]
    },
    "kernelspec": {
      "name": "python3",
      "display_name": "Python 3"
    },
    "language_info": {
      "name": "python"
    }
  },
  "cells": [
    {
      "cell_type": "markdown",
      "metadata": {
        "id": "rWgnpUqtu6LI"
      },
      "source": [
        "#Teste de Estacionaridade"
      ]
    },
    {
      "cell_type": "markdown",
      "metadata": {
        "id": "j2wSVcDKu77o"
      },
      "source": [
        "##Importar Libs"
      ]
    },
    {
      "cell_type": "code",
      "metadata": {
        "id": "FdC6NB6oujAz"
      },
      "source": [
        "import numpy as np                    #Manipulações Matemáticas\n",
        "import pandas as pd                   #Manipulações de DataFrames e Series\n",
        "import warnings                       #Supressão de FutureWarnings\n",
        "import matplotlib.pyplot as plt       #Manipulações Gráficas\n",
        "import statsmodels.tsa.stattools      #Realizações de Testes Estátisticos\n",
        "from matplotlib.pylab import rcParams #Alteração de parametros de gráficos do matplotlib"
      ],
      "execution_count": 17,
      "outputs": []
    },
    {
      "cell_type": "code",
      "metadata": {
        "id": "bIFAnl9EuqlC"
      },
      "source": [
        "warnings.filterwarnings('ignore')\n",
        "rcParams['figure.figsize'] = 15, 6"
      ],
      "execution_count": 21,
      "outputs": []
    },
    {
      "cell_type": "markdown",
      "metadata": {
        "id": "kam32IAju2Xa"
      },
      "source": [
        "##Criação da Série"
      ]
    },
    {
      "cell_type": "code",
      "metadata": {
        "colab": {
          "base_uri": "https://localhost:8080/"
        },
        "id": "qPMA46hku4th",
        "outputId": "c5e26ef4-79fe-4678-d9ca-372f6e68a382"
      },
      "source": [
        "np.random.seed(10)\n",
        "dados1 = np.random.normal(0, 1, 41)\n",
        "dados1"
      ],
      "execution_count": 6,
      "outputs": [
        {
          "output_type": "execute_result",
          "data": {
            "text/plain": [
              "array([ 1.3315865 ,  0.71527897, -1.54540029, -0.00838385,  0.62133597,\n",
              "       -0.72008556,  0.26551159,  0.10854853,  0.00429143, -0.17460021,\n",
              "        0.43302619,  1.20303737, -0.96506567,  1.02827408,  0.22863013,\n",
              "        0.44513761, -1.13660221,  0.13513688,  1.484537  , -1.07980489,\n",
              "       -1.97772828, -1.7433723 ,  0.26607016,  2.38496733,  1.12369125,\n",
              "        1.67262221,  0.09914922,  1.39799638, -0.27124799,  0.61320418,\n",
              "       -0.26731719, -0.54930901,  0.1327083 , -0.47614201,  1.30847308,\n",
              "        0.19501328,  0.40020999, -0.33763234,  1.25647226, -0.7319695 ,\n",
              "        0.66023155])"
            ]
          },
          "metadata": {},
          "execution_count": 6
        }
      ]
    },
    {
      "cell_type": "code",
      "metadata": {
        "colab": {
          "base_uri": "https://localhost:8080/",
          "height": 203
        },
        "id": "zms2OVN-vSOc",
        "outputId": "35bd3a0b-f308-432f-cbd8-63ac3ce07c46"
      },
      "source": [
        "dados1 = pd.DataFrame(dados1, columns=['valores'])\n",
        "ddados1.head()"
      ],
      "execution_count": 7,
      "outputs": [
        {
          "output_type": "execute_result",
          "data": {
            "text/html": [
              "<div>\n",
              "<style scoped>\n",
              "    .dataframe tbody tr th:only-of-type {\n",
              "        vertical-align: middle;\n",
              "    }\n",
              "\n",
              "    .dataframe tbody tr th {\n",
              "        vertical-align: top;\n",
              "    }\n",
              "\n",
              "    .dataframe thead th {\n",
              "        text-align: right;\n",
              "    }\n",
              "</style>\n",
              "<table border=\"1\" class=\"dataframe\">\n",
              "  <thead>\n",
              "    <tr style=\"text-align: right;\">\n",
              "      <th></th>\n",
              "      <th>valores</th>\n",
              "    </tr>\n",
              "  </thead>\n",
              "  <tbody>\n",
              "    <tr>\n",
              "      <th>0</th>\n",
              "      <td>1.331587</td>\n",
              "    </tr>\n",
              "    <tr>\n",
              "      <th>1</th>\n",
              "      <td>0.715279</td>\n",
              "    </tr>\n",
              "    <tr>\n",
              "      <th>2</th>\n",
              "      <td>-1.545400</td>\n",
              "    </tr>\n",
              "    <tr>\n",
              "      <th>3</th>\n",
              "      <td>-0.008384</td>\n",
              "    </tr>\n",
              "    <tr>\n",
              "      <th>4</th>\n",
              "      <td>0.621336</td>\n",
              "    </tr>\n",
              "  </tbody>\n",
              "</table>\n",
              "</div>"
            ],
            "text/plain": [
              "    valores\n",
              "0  1.331587\n",
              "1  0.715279\n",
              "2 -1.545400\n",
              "3 -0.008384\n",
              "4  0.621336"
            ]
          },
          "metadata": {},
          "execution_count": 7
        }
      ]
    },
    {
      "cell_type": "code",
      "metadata": {
        "colab": {
          "base_uri": "https://localhost:8080/"
        },
        "id": "TXGewRBOvbO2",
        "outputId": "3fa61d04-0d85-4d06-cb2d-b79b36ebbab9"
      },
      "source": [
        "dados1.shape"
      ],
      "execution_count": 8,
      "outputs": [
        {
          "output_type": "execute_result",
          "data": {
            "text/plain": [
              "(41, 1)"
            ]
          },
          "metadata": {},
          "execution_count": 8
        }
      ]
    },
    {
      "cell_type": "code",
      "metadata": {
        "colab": {
          "base_uri": "https://localhost:8080/"
        },
        "id": "hsIrq_ICvgye",
        "outputId": "32913c32-3ba7-49cc-ee31-53b0544cec98"
      },
      "source": [
        "indice = pd.date_range('1980', periods=len(dados1), freq='Y')\n",
        "indice"
      ],
      "execution_count": 9,
      "outputs": [
        {
          "output_type": "execute_result",
          "data": {
            "text/plain": [
              "DatetimeIndex(['1980-12-31', '1981-12-31', '1982-12-31', '1983-12-31',\n",
              "               '1984-12-31', '1985-12-31', '1986-12-31', '1987-12-31',\n",
              "               '1988-12-31', '1989-12-31', '1990-12-31', '1991-12-31',\n",
              "               '1992-12-31', '1993-12-31', '1994-12-31', '1995-12-31',\n",
              "               '1996-12-31', '1997-12-31', '1998-12-31', '1999-12-31',\n",
              "               '2000-12-31', '2001-12-31', '2002-12-31', '2003-12-31',\n",
              "               '2004-12-31', '2005-12-31', '2006-12-31', '2007-12-31',\n",
              "               '2008-12-31', '2009-12-31', '2010-12-31', '2011-12-31',\n",
              "               '2012-12-31', '2013-12-31', '2014-12-31', '2015-12-31',\n",
              "               '2016-12-31', '2017-12-31', '2018-12-31', '2019-12-31',\n",
              "               '2020-12-31'],\n",
              "              dtype='datetime64[ns]', freq='A-DEC')"
            ]
          },
          "metadata": {},
          "execution_count": 9
        }
      ]
    },
    {
      "cell_type": "code",
      "metadata": {
        "id": "pPcZeIVTvodl"
      },
      "source": [
        "serie1 = pd.Series(dados1['valores'].values, index=indice)"
      ],
      "execution_count": 10,
      "outputs": []
    },
    {
      "cell_type": "code",
      "metadata": {
        "colab": {
          "base_uri": "https://localhost:8080/",
          "height": 404
        },
        "id": "44j5WmOwvyOs",
        "outputId": "1b1c4cfd-ebde-4060-9c8d-406beff02020"
      },
      "source": [
        "serie1.plot()\n",
        "plt.title('Dados aleatórios de 1980 à 2020')\n",
        "plt.xlabel('Anos')\n",
        "plt.ylabel('Valores')\n",
        "plt.show()"
      ],
      "execution_count": 12,
      "outputs": [
        {
          "output_type": "display_data",
          "data": {
            "image/png": "[encoded data removed]",
            "text/plain": [
              "<Figure size 1080x432 with 1 Axes>"
            ]
          },
          "metadata": {
            "needs_background": "light"
          }
        }
      ]
    },
    {
      "cell_type": "markdown",
      "metadata": {
        "id": "GrXr5bssu5Wf"
      },
      "source": [
        "##Testes de Estacionaridade"
      ]
    },
    {
      "cell_type": "markdown",
      "metadata": {
        "id": "E44z8MjuwDPK"
      },
      "source": [
        "###Teste KPSS (Kwiatkowski-Phillips-Schmidt-Shin)\n",
        "\n",
        "* H0 = Não é estacionário: Estátistica do teste > valor crítico\n",
        "* H1 = É estacionário: Estátistica do teste < valor crítico"
      ]
    },
    {
      "cell_type": "code",
      "metadata": {
        "colab": {
          "base_uri": "https://localhost:8080/"
        },
        "id": "JHFCz1ddwsLl",
        "outputId": "cc3f9ba8-25a0-42ed-e89e-545a453da547"
      },
      "source": [
        "kpss = statsmodels.tsa.stattools.kpss(serie1);\n",
        "\n",
        "print('Estátistica do Teste: {:.4f}'.format(kpss[0]))\n",
        "print('p-value: {:.4f}'.format(kpss[1]))\n",
        "print('Número de Lags: {}'.format(kpss[2]))\n",
        "print('\\n Valores Críticos:')\n",
        "\n",
        "for chave, valor in kpss[3].items():\n",
        "  if kpss[0] < valor:\n",
        "    print('Estacionário - {}: {:.4f}'.format(chave, valor))\n",
        "  else:\n",
        "    print('Não Estacionário - {}: {:.4f}'.format(chave, valor))"
      ],
      "execution_count": 44,
      "outputs": [
        {
          "output_type": "stream",
          "name": "stdout",
          "text": [
            "Estátistica do Teste: 0.1918\n",
            "p-value: 0.1000\n",
            "Número de Lags: 10\n",
            "\n",
            " Valores Críticos:\n",
            "Estacionário - 10%: 0.3470\n",
            "Estacionário - 5%: 0.4630\n",
            "Estacionário - 2.5%: 0.5740\n",
            "Estacionário - 1%: 0.7390\n"
          ]
        }
      ]
    },
    {
      "cell_type": "markdown",
      "metadata": {
        "id": "YmWxnqX3yudA"
      },
      "source": [
        "###Teste Dickey Fuller\n",
        "\n",
        "* H0 = Não é estacionário: Estátistica do teste > valor crítico\n",
        "* H1 = É estacionário: Estátistica do teste < valor crítico"
      ]
    },
    {
      "cell_type": "code",
      "metadata": {
        "colab": {
          "base_uri": "https://localhost:8080/"
        },
        "id": "rv0A78wmyw94",
        "outputId": "41694aad-1643-4bd7-cee6-225ff7c61b62"
      },
      "source": [
        "df = statsmodels.tsa.stattools.adfuller(serie1);\n",
        "\n",
        "print('Estátistica do Teste: {:.4f}'.format(df[0]))\n",
        "print('p-value: {:.4f}'.format(df[1])) \n",
        "print('\\n Valores Críticos:')\n",
        "\n",
        "for chave, valor in df[4].items():\n",
        "  if df[0] < valor:\n",
        "    print('Estacionário - {}: {:.4f}'.format(chave, valor))\n",
        "  else:\n",
        "    print('Não Estacionário - {}: {:.4f}'.format(chave, valor))"
      ],
      "execution_count": 43,
      "outputs": [
        {
          "output_type": "stream",
          "name": "stdout",
          "text": [
            "Estátistica do Teste: -5.8642\n",
            "p-value: 0.0000\n",
            "\n",
            " Valores Críticos:\n",
            "Estacionário - 1%: -3.6056\n",
            "Estacionário - 5%: -2.9371\n",
            "Estacionário - 10%: -2.6070\n"
          ]
        }
      ]
    },
    {
      "cell_type": "markdown",
      "metadata": {
        "id": "OjfGKsErzcgX"
      },
      "source": [
        "##Dataset Importado"
      ]
    },
    {
      "cell_type": "markdown",
      "metadata": {
        "id": "7XoL-wABzify"
      },
      "source": [
        "AirPassegers: Dados Clássicos da compainha aérea Box & Jenkins. Totais mensais de passageiros de compainhas aéreas internacionais de 1949 à 1960."
      ]
    },
    {
      "cell_type": "code",
      "metadata": {
        "colab": {
          "base_uri": "https://localhost:8080/",
          "height": 203
        },
        "id": "Gr6QDrI5zfsS",
        "outputId": "97f34cc6-0200-4265-9621-5fb91eebbd90"
      },
      "source": [
        "serie2 = pd.read_csv('/content/drive/MyDrive/Dataset_Excel_CSV/AirPassengers.csv')\n",
        "serie2.columns = ['mes_anos','qt_passageiros']\n",
        "serie2.head()"
      ],
      "execution_count": 33,
      "outputs": [
        {
          "output_type": "execute_result",
          "data": {
            "text/html": [
              "<div>\n",
              "<style scoped>\n",
              "    .dataframe tbody tr th:only-of-type {\n",
              "        vertical-align: middle;\n",
              "    }\n",
              "\n",
              "    .dataframe tbody tr th {\n",
              "        vertical-align: top;\n",
              "    }\n",
              "\n",
              "    .dataframe thead th {\n",
              "        text-align: right;\n",
              "    }\n",
              "</style>\n",
              "<table border=\"1\" class=\"dataframe\">\n",
              "  <thead>\n",
              "    <tr style=\"text-align: right;\">\n",
              "      <th></th>\n",
              "      <th>mes_ano</th>\n",
              "      <th>qt_passageiros</th>\n",
              "    </tr>\n",
              "  </thead>\n",
              "  <tbody>\n",
              "    <tr>\n",
              "      <th>0</th>\n",
              "      <td>1949-01</td>\n",
              "      <td>112</td>\n",
              "    </tr>\n",
              "    <tr>\n",
              "      <th>1</th>\n",
              "      <td>1949-02</td>\n",
              "      <td>118</td>\n",
              "    </tr>\n",
              "    <tr>\n",
              "      <th>2</th>\n",
              "      <td>1949-03</td>\n",
              "      <td>132</td>\n",
              "    </tr>\n",
              "    <tr>\n",
              "      <th>3</th>\n",
              "      <td>1949-04</td>\n",
              "      <td>129</td>\n",
              "    </tr>\n",
              "    <tr>\n",
              "      <th>4</th>\n",
              "      <td>1949-05</td>\n",
              "      <td>121</td>\n",
              "    </tr>\n",
              "  </tbody>\n",
              "</table>\n",
              "</div>"
            ],
            "text/plain": [
              "   mes_ano  qt_passageiros\n",
              "0  1949-01             112\n",
              "1  1949-02             118\n",
              "2  1949-03             132\n",
              "3  1949-04             129\n",
              "4  1949-05             121"
            ]
          },
          "metadata": {},
          "execution_count": 33
        }
      ]
    },
    {
      "cell_type": "code",
      "metadata": {
        "colab": {
          "base_uri": "https://localhost:8080/"
        },
        "id": "swpMmAh00Si2",
        "outputId": "fe2164fc-9e0c-4597-abbc-2eeb71b1410f"
      },
      "source": [
        "serie2 = pd.Series(serie2['qt_passageiros'].values, index=serie2['mes_ano'])\n",
        "serie2"
      ],
      "execution_count": 34,
      "outputs": [
        {
          "output_type": "execute_result",
          "data": {
            "text/plain": [
              "mes_ano\n",
              "1949-01    112\n",
              "1949-02    118\n",
              "1949-03    132\n",
              "1949-04    129\n",
              "1949-05    121\n",
              "          ... \n",
              "1960-08    606\n",
              "1960-09    508\n",
              "1960-10    461\n",
              "1960-11    390\n",
              "1960-12    432\n",
              "Length: 144, dtype: int64"
            ]
          },
          "metadata": {},
          "execution_count": 34
        }
      ]
    },
    {
      "cell_type": "code",
      "metadata": {
        "colab": {
          "base_uri": "https://localhost:8080/",
          "height": 404
        },
        "id": "QL_mJFlI0lkB",
        "outputId": "3c16016f-386a-445c-f873-6ac0ebbd9917"
      },
      "source": [
        "serie2.plot()\n",
        "plt.title('Quantidade de Passageiro por mês e ano entre 1949 à 1960')\n",
        "plt.xlabel('Mês e Ano')\n",
        "plt.ylabel('Quantidade de Passageiros')\n",
        "plt.show()"
      ],
      "execution_count": 36,
      "outputs": [
        {
          "output_type": "display_data",
          "data": {
            "image/png": "[encoded data removed]",
            "text/plain": [
              "<Figure size 1080x432 with 1 Axes>"
            ]
          },
          "metadata": {
            "needs_background": "light"
          }
        }
      ]
    },
    {
      "cell_type": "markdown",
      "metadata": {
        "id": "coo8jJh704OX"
      },
      "source": [
        "###Testes de Estacionaridade"
      ]
    },
    {
      "cell_type": "markdown",
      "metadata": {
        "id": "O66d6qLc1Ig-"
      },
      "source": [
        "####KPSS\n",
        "\n",
        "* H0 = Não é estacionário: Estátistica do teste > valor crítico\n",
        "* H1 = É estacionário: Estátistica do teste < valor crítico"
      ]
    },
    {
      "cell_type": "code",
      "metadata": {
        "colab": {
          "base_uri": "https://localhost:8080/"
        },
        "id": "OWz9BVa406Dq",
        "outputId": "707132f6-ea83-4788-8b94-e78cee572bb0"
      },
      "source": [
        "kpss = statsmodels.tsa.stattools.kpss(serie2);\n",
        "\n",
        "print('Estátistica do Teste: {:.4f}'.format(kpss[0]))\n",
        "print('p-value: {:.4f}'.format(kpss[1]))\n",
        "print('Número de Lags: {}'.format(kpss[2]))\n",
        "print('\\n Valores Críticos:')\n",
        "\n",
        "for chave, valor in kpss[3].items():\n",
        "  if kpss[0] < valor:\n",
        "    print('Estacionário - {}: {:.4f}'.format(chave, valor))\n",
        "  else:\n",
        "    print('Não Estacionário - {}: {:.4f}'.format(chave, valor))"
      ],
      "execution_count": 45,
      "outputs": [
        {
          "output_type": "stream",
          "name": "stdout",
          "text": [
            "Estátistica do Teste: 1.0522\n",
            "p-value: 0.0100\n",
            "Número de Lags: 14\n",
            "\n",
            " Valores Críticos:\n",
            "Não Estacionário - 10%: 0.3470\n",
            "Não Estacionário - 5%: 0.4630\n",
            "Não Estacionário - 2.5%: 0.5740\n",
            "Não Estacionário - 1%: 0.7390\n"
          ]
        }
      ]
    },
    {
      "cell_type": "markdown",
      "metadata": {
        "id": "0AUwFC4H1Pky"
      },
      "source": [
        "####Dickey Fuller\n",
        "\n",
        "* H0 = Não é estacionário: Estátistica do teste > valor crítico\n",
        "* H1 = É estacionário: Estátistica do teste < valor crítico"
      ]
    },
    {
      "cell_type": "code",
      "metadata": {
        "colab": {
          "base_uri": "https://localhost:8080/"
        },
        "id": "kUf-1Hbm1RxC",
        "outputId": "4fe173a4-bfd1-45da-c2db-6b68111e0b7f"
      },
      "source": [
        "df = statsmodels.tsa.stattools.adfuller(serie2);\n",
        "\n",
        "print('Estátistica do Teste: {:.4f}'.format(df[0]))\n",
        "print('p-value: {:.4f}'.format(df[1])) \n",
        "print('\\n Valores Críticos:')\n",
        "\n",
        "for chave, valor in df[4].items():\n",
        "  if df[0] < valor:\n",
        "    print('Estacionário - {}: {:.4f}'.format(chave, valor))\n",
        "  else:\n",
        "    print('Não Estacionário - {}: {:.4f}'.format(chave, valor))"
      ],
      "execution_count": 46,
      "outputs": [
        {
          "output_type": "stream",
          "name": "stdout",
          "text": [
            "Estátistica do Teste: 0.8154\n",
            "p-value: 0.9919\n",
            "\n",
            " Valores Críticos:\n",
            "Não Estacionário - 1%: -3.4817\n",
            "Não Estacionário - 5%: -2.8840\n",
            "Não Estacionário - 10%: -2.5788\n"
          ]
        }
      ]
    }
  ]
}